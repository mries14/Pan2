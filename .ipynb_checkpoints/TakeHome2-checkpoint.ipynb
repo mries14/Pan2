{
 "cells": [
  {
   "cell_type": "code",
   "execution_count": 3,
   "metadata": {},
   "outputs": [],
   "source": [
    "import pandas as pd\n",
    "import matplotlib.pyplot as plt\n",
    "import numpy as np"
   ]
  },
  {
   "cell_type": "code",
   "execution_count": 5,
   "metadata": {},
   "outputs": [
    {
     "data": {
      "text/html": [
       "<div>\n",
       "<style scoped>\n",
       "    .dataframe tbody tr th:only-of-type {\n",
       "        vertical-align: middle;\n",
       "    }\n",
       "\n",
       "    .dataframe tbody tr th {\n",
       "        vertical-align: top;\n",
       "    }\n",
       "\n",
       "    .dataframe thead th {\n",
       "        text-align: right;\n",
       "    }\n",
       "</style>\n",
       "<table border=\"1\" class=\"dataframe\">\n",
       "  <thead>\n",
       "    <tr style=\"text-align: right;\">\n",
       "      <th></th>\n",
       "      <th>country</th>\n",
       "      <th>description</th>\n",
       "      <th>designation</th>\n",
       "      <th>points</th>\n",
       "      <th>price</th>\n",
       "      <th>province</th>\n",
       "      <th>region_1</th>\n",
       "      <th>region_2</th>\n",
       "      <th>taster_name</th>\n",
       "      <th>taster_twitter_handle</th>\n",
       "      <th>title</th>\n",
       "      <th>variety</th>\n",
       "      <th>winery</th>\n",
       "    </tr>\n",
       "  </thead>\n",
       "  <tbody>\n",
       "    <tr>\n",
       "      <th>0</th>\n",
       "      <td>Spain</td>\n",
       "      <td>With damp earth and crusty leather aromas, thi...</td>\n",
       "      <td>RSV 1601 El Duque de Lerma</td>\n",
       "      <td>88</td>\n",
       "      <td>75.0</td>\n",
       "      <td>Northern Spain</td>\n",
       "      <td>Ribera del Duero</td>\n",
       "      <td>NaN</td>\n",
       "      <td>Michael Schachner</td>\n",
       "      <td>@wineschach</td>\n",
       "      <td>Real Sitio de Ventosilla 2004 RSV 1601 El Duqu...</td>\n",
       "      <td>Tempranillo</td>\n",
       "      <td>Real Sitio de Ventosilla</td>\n",
       "    </tr>\n",
       "    <tr>\n",
       "      <th>1</th>\n",
       "      <td>US</td>\n",
       "      <td>A really nice sparkling wine from Gloria Ferre...</td>\n",
       "      <td>Brut Rosé</td>\n",
       "      <td>91</td>\n",
       "      <td>42.0</td>\n",
       "      <td>California</td>\n",
       "      <td>Carneros</td>\n",
       "      <td>Napa-Sonoma</td>\n",
       "      <td>NaN</td>\n",
       "      <td>NaN</td>\n",
       "      <td>Gloria Ferrer 2007 Brut Rosé Sparkling (Carneros)</td>\n",
       "      <td>Sparkling Blend</td>\n",
       "      <td>Gloria Ferrer</td>\n",
       "    </tr>\n",
       "    <tr>\n",
       "      <th>2</th>\n",
       "      <td>US</td>\n",
       "      <td>Mostly Cabernet, with a bit of Merlot and Malb...</td>\n",
       "      <td>Electrum</td>\n",
       "      <td>90</td>\n",
       "      <td>65.0</td>\n",
       "      <td>Washington</td>\n",
       "      <td>Red Mountain</td>\n",
       "      <td>Columbia Valley</td>\n",
       "      <td>Paul Gregutt</td>\n",
       "      <td>@paulgwine</td>\n",
       "      <td>Obelisco Estate 2009 Electrum Cabernet Sauvign...</td>\n",
       "      <td>Cabernet Sauvignon</td>\n",
       "      <td>Obelisco Estate</td>\n",
       "    </tr>\n",
       "    <tr>\n",
       "      <th>3</th>\n",
       "      <td>Italy</td>\n",
       "      <td>Delicate embroidered with sage, eucalyptus, co...</td>\n",
       "      <td>Vigna del Fiore</td>\n",
       "      <td>93</td>\n",
       "      <td>90.0</td>\n",
       "      <td>Tuscany</td>\n",
       "      <td>Brunello di Montalcino</td>\n",
       "      <td>NaN</td>\n",
       "      <td>NaN</td>\n",
       "      <td>NaN</td>\n",
       "      <td>Fattoria dei Barbi 2007 Vigna del Fiore  (Brun...</td>\n",
       "      <td>Sangiovese Grosso</td>\n",
       "      <td>Fattoria dei Barbi</td>\n",
       "    </tr>\n",
       "    <tr>\n",
       "      <th>4</th>\n",
       "      <td>US</td>\n",
       "      <td>A massive wine that absolutely demands time in...</td>\n",
       "      <td>NaN</td>\n",
       "      <td>95</td>\n",
       "      <td>70.0</td>\n",
       "      <td>California</td>\n",
       "      <td>Alexander Valley</td>\n",
       "      <td>Sonoma</td>\n",
       "      <td>NaN</td>\n",
       "      <td>NaN</td>\n",
       "      <td>Lancaster 2005 Cabernet Sauvignon (Alexander V...</td>\n",
       "      <td>Cabernet Sauvignon</td>\n",
       "      <td>Lancaster</td>\n",
       "    </tr>\n",
       "  </tbody>\n",
       "</table>\n",
       "</div>"
      ],
      "text/plain": [
       "  country                                        description  \\\n",
       "0   Spain  With damp earth and crusty leather aromas, thi...   \n",
       "1      US  A really nice sparkling wine from Gloria Ferre...   \n",
       "2      US  Mostly Cabernet, with a bit of Merlot and Malb...   \n",
       "3   Italy  Delicate embroidered with sage, eucalyptus, co...   \n",
       "4      US  A massive wine that absolutely demands time in...   \n",
       "\n",
       "                  designation  points  price        province  \\\n",
       "0  RSV 1601 El Duque de Lerma      88   75.0  Northern Spain   \n",
       "1                   Brut Rosé      91   42.0      California   \n",
       "2                    Electrum      90   65.0      Washington   \n",
       "3             Vigna del Fiore      93   90.0         Tuscany   \n",
       "4                         NaN      95   70.0      California   \n",
       "\n",
       "                 region_1         region_2        taster_name  \\\n",
       "0        Ribera del Duero              NaN  Michael Schachner   \n",
       "1                Carneros      Napa-Sonoma                NaN   \n",
       "2            Red Mountain  Columbia Valley       Paul Gregutt   \n",
       "3  Brunello di Montalcino              NaN                NaN   \n",
       "4        Alexander Valley           Sonoma                NaN   \n",
       "\n",
       "  taster_twitter_handle                                              title  \\\n",
       "0           @wineschach  Real Sitio de Ventosilla 2004 RSV 1601 El Duqu...   \n",
       "1                   NaN  Gloria Ferrer 2007 Brut Rosé Sparkling (Carneros)   \n",
       "2           @paulgwine   Obelisco Estate 2009 Electrum Cabernet Sauvign...   \n",
       "3                   NaN  Fattoria dei Barbi 2007 Vigna del Fiore  (Brun...   \n",
       "4                   NaN  Lancaster 2005 Cabernet Sauvignon (Alexander V...   \n",
       "\n",
       "              variety                    winery  \n",
       "0         Tempranillo  Real Sitio de Ventosilla  \n",
       "1     Sparkling Blend             Gloria Ferrer  \n",
       "2  Cabernet Sauvignon           Obelisco Estate  \n",
       "3   Sangiovese Grosso        Fattoria dei Barbi  \n",
       "4  Cabernet Sauvignon                 Lancaster  "
      ]
     },
     "execution_count": 5,
     "metadata": {},
     "output_type": "execute_result"
    }
   ],
   "source": [
    "# First, read in the data\n",
    "df1 = pd.read_csv('wine_data_set_updated.csv')\n",
    "df1.head()"
   ]
  },
  {
   "cell_type": "code",
   "execution_count": 14,
   "metadata": {},
   "outputs": [
    {
     "data": {
      "text/plain": [
       "-24.0    22\n",
       "-23.0     8\n",
       "-22.0    26\n",
       "-21.0     8\n",
       "-20.0    44\n",
       "-19.0    15\n",
       "-18.0    41\n",
       "-17.0    24\n",
       "-16.0    24\n",
       "-15.0    40\n",
       "-14.0    27\n",
       "-13.0    32\n",
       "-12.0    31\n",
       "-11.0    11\n",
       "-10.0    24\n",
       "-9.0     15\n",
       "-8.0      5\n",
       "-7.0      7\n",
       "-6.0      3\n",
       "-5.0      1\n",
       "-4.0      1\n",
       "Name: price, dtype: int64"
      ]
     },
     "execution_count": 14,
     "metadata": {},
     "output_type": "execute_result"
    }
   ],
   "source": [
    "#Create variable for price column and explore what is in the data\n",
    "price = df1['price']\n",
    "price.value_counts().sort_index()[:0]"
   ]
  },
  {
   "cell_type": "markdown",
   "metadata": {},
   "source": [
    "We can see values below 0 that are likely just values that have been put into the data as negative accidentally, so we will just take the absolute value of each of these price points."
   ]
  },
  {
   "cell_type": "code",
   "execution_count": 15,
   "metadata": {},
   "outputs": [
    {
     "data": {
      "text/plain": [
       "count    9257.000000\n",
       "mean       35.750135\n",
       "std        40.936381\n",
       "min         4.000000\n",
       "25%        17.000000\n",
       "50%        25.000000\n",
       "75%        42.000000\n",
       "max      1000.000000\n",
       "Name: price, dtype: float64"
      ]
     },
     "execution_count": 15,
     "metadata": {},
     "output_type": "execute_result"
    }
   ],
   "source": [
    "#Turn price data into absolute values, look at descriptive stats\n",
    "df1['price'] = abs(df1['price'])\n",
    "price = df1['price']\n",
    "price.describe()"
   ]
  },
  {
   "cell_type": "code",
   "execution_count": 31,
   "metadata": {},
   "outputs": [
    {
     "data": {
      "image/png": "[encoded data removed]",
      "text/plain": [
       "<Figure size 432x288 with 1 Axes>"
      ]
     },
     "metadata": {
      "needs_background": "light"
     },
     "output_type": "display_data"
    }
   ],
   "source": [
    "# Take a look at the hist of price\n",
    "plt.hist(price.dropna().values,bins=30)\n",
    "plt.xlabel('Price')\n",
    "plt.ylabel('Count')\n",
    "plt.show()"
   ]
  },
  {
   "cell_type": "code",
   "execution_count": 32,
   "metadata": {},
   "outputs": [
    {
     "data": {
      "image/png": "[encoded data removed]",
      "text/plain": [
       "<Figure size 432x288 with 1 Axes>"
      ]
     },
     "metadata": {
      "needs_background": "light"
     },
     "output_type": "display_data"
    }
   ],
   "source": [
    "#Take hist of log(price)\n",
    "plt.hist(np.log(price).dropna().values,bins=20)\n",
    "plt.xlabel('log(Price)')\n",
    "plt.ylabel('Count')\n",
    "plt.show()"
   ]
  },
  {
   "cell_type": "markdown",
   "metadata": {},
   "source": [
    "This looks much more normal than our original histogram without taking $log(price)$"
   ]
  },
  {
   "cell_type": "code",
   "execution_count": 33,
   "metadata": {
    "scrolled": true
   },
   "outputs": [
    {
     "name": "stdout",
     "output_type": "stream",
     "text": [
      "80       27\n",
      "81       51\n",
      "82      128\n",
      "83      238\n",
      "84      491\n",
      "85      693\n",
      "86     1018\n",
      "87     1286\n",
      "88     1352\n",
      "89      959\n",
      "90     1200\n",
      "91      854\n",
      "92      765\n",
      "93      484\n",
      "94      268\n",
      "95      103\n",
      "96       47\n",
      "97       26\n",
      "98        7\n",
      "99        2\n",
      "100       1\n",
      "Name: points, dtype: int64\n"
     ]
    },
    {
     "data": {
      "image/png": "[encoded data removed]",
      "text/plain": [
       "<Figure size 432x288 with 1 Axes>"
      ]
     },
     "metadata": {
      "needs_background": "light"
     },
     "output_type": "display_data"
    }
   ],
   "source": [
    "#Create variable for points column and explore what is in the data\n",
    "points = df1['points']\n",
    "print(points.value_counts().sort_index())\n",
    "plt.hist(points.dropna().values,bins=20)\n",
    "plt.xlabel('Points')\n",
    "plt.ylabel('Count')\n",
    "plt.show()"
   ]
  },
  {
   "cell_type": "markdown",
   "metadata": {},
   "source": [
    "The points column looks reasonably normal."
   ]
  },
  {
   "cell_type": "code",
   "execution_count": 69,
   "metadata": {},
   "outputs": [
    {
     "name": "stdout",
     "output_type": "stream",
     "text": [
      "Unique varieties: 348\n"
     ]
    },
    {
     "data": {
      "image/png": "[encoded data removed]",
      "text/plain": [
       "<Figure size 432x288 with 1 Axes>"
      ]
     },
     "metadata": {
      "needs_background": "light"
     },
     "output_type": "display_data"
    }
   ],
   "source": [
    "# Create a bar chart of the different varieties\n",
    "# Only use varieties with over 100 reviews\n",
    "varietyCounts = df1['variety'].value_counts()\n",
    "print('Unique varieties: ' + str(len(varietyCounts)))\n",
    "variety100 = varietyCounts[varietyCounts >= 100]\n",
    "variety100.plot.bar()\n",
    "plt.xlabel('Variety')\n",
    "plt.ylabel('Reviews Count')\n",
    "plt.show()"
   ]
  },
  {
   "cell_type": "code",
   "execution_count": 70,
   "metadata": {},
   "outputs": [
    {
     "name": "stdout",
     "output_type": "stream",
     "text": [
      "Unique provinces: 238\n"
     ]
    },
    {
     "data": {
      "image/png": "[encoded data removed]",
      "text/plain": [
       "<Figure size 432x288 with 1 Axes>"
      ]
     },
     "metadata": {
      "needs_background": "light"
     },
     "output_type": "display_data"
    }
   ],
   "source": [
    "# Create a bar chart of the different provinces\n",
    "# Only use provinces with over 100 reviews\n",
    "provinceCounts = df1['province'].value_counts()\n",
    "print('Unique provinces: ' + str(len(provinceCounts)))\n",
    "province100 = provinceCounts[provinceCounts >= 100]\n",
    "province100.plot.bar()\n",
    "plt.xlabel('Province')\n",
    "plt.ylabel('Reviews Count')\n",
    "plt.show()"
   ]
  },
  {
   "cell_type": "code",
   "execution_count": 72,
   "metadata": {
    "scrolled": true
   },
   "outputs": [
    {
     "name": "stdout",
     "output_type": "stream",
     "text": [
      "Unique Countries: 34\n"
     ]
    },
    {
     "data": {
      "image/png": "[encoded data removed]",
      "text/plain": [
       "<Figure size 432x288 with 1 Axes>"
      ]
     },
     "metadata": {
      "needs_background": "light"
     },
     "output_type": "display_data"
    }
   ],
   "source": [
    "# Create a bar chart of the different countries\n",
    "# Only use countries with over 100 reviews\n",
    "countryCounts = df1['country'].value_counts()\n",
    "print('Unique Countries: ' + str(len(countryCounts)))\n",
    "greater100 = countryCounts[countryCounts >= 100]\n",
    "greater100.plot.bar()\n",
    "plt.xlabel('Country')\n",
    "plt.ylabel('Reviews Count')\n",
    "plt.show()"
   ]
  },
  {
   "cell_type": "markdown",
   "metadata": {},
   "source": [
    "# Key Takeaways from EDA\n",
    "\n",
    "- The U.S.A. dominates the dataset, as there are over twice as many observations with 'US' as the country than the next highest country.\n",
    "- France and Italy are also highly represented within the data\n",
    "- California is, by far, the most represented province with 2854 observations - Over 4x as many as the next highest\n",
    "- Taking the $log(price)$ makes the histogram look reasonably normal\n",
    "- The most popular varieties include a few different tiers\n",
    "    - Tier 1: Pinot Noir and Chardonnay\n",
    "    - Tier 2: Cabernet Sauvignon, Red Blend, and Bordeaux-Style Red Blend\n",
    "    - Tier 3: Riesling and Sauvignon Blanc\n",
    "    - Tier 4: All others"
   ]
  },
  {
   "cell_type": "markdown",
   "metadata": {},
   "source": [
    "# Recommender System"
   ]
  },
  {
   "cell_type": "code",
   "execution_count": 73,
   "metadata": {},
   "outputs": [],
   "source": [
    "#Import TfIdfVectorizer from scikit-learn\n",
    "from sklearn.feature_extraction.text import TfidfVectorizer"
   ]
  },
  {
   "cell_type": "code",
   "execution_count": 74,
   "metadata": {},
   "outputs": [
    {
     "data": {
      "text/plain": [
       "(10000, 11352)"
      ]
     },
     "execution_count": 74,
     "metadata": {},
     "output_type": "execute_result"
    }
   ],
   "source": [
    "#Define a TF-IDF Vectorizer Object. Remove all english stop words such as 'the', 'a'\n",
    "tfidf = TfidfVectorizer(stop_words='english')\n",
    "\n",
    "#Replace NaN with an empty string\n",
    "df1['description'] = df1['description'].fillna('')\n",
    "\n",
    "#Construct the required TF-IDF matrix by fitting and transforming the data\n",
    "tfidf_matrix = tfidf.fit_transform(df1['description'])\n",
    "\n",
    "#Output the shape of tfidf_matrix\n",
    "tfidf_matrix.shape"
   ]
  },
  {
   "cell_type": "markdown",
   "metadata": {},
   "source": [
    "We can see that 11352 different words were used to describe 10000 instances"
   ]
  },
  {
   "cell_type": "code",
   "execution_count": 210,
   "metadata": {},
   "outputs": [],
   "source": [
    "# Import linear_kernel\n",
    "from sklearn.metrics.pairwise import linear_kernel\n",
    "\n",
    "# Compute the cosine similarity matrix\n",
    "cosine_sim = linear_kernel(tfidf_matrix, tfidf_matrix)"
   ]
  },
  {
   "cell_type": "code",
   "execution_count": 211,
   "metadata": {},
   "outputs": [],
   "source": [
    "#Construct a reverse map of indices and wine descriptions\n",
    "indices = pd.Series(df1.index, index=df1['description']).drop_duplicates()"
   ]
  },
  {
   "cell_type": "code",
   "execution_count": 212,
   "metadata": {},
   "outputs": [],
   "source": [
    "# Function that takes in wine number as input and outputs most similar wines\n",
    "def get_recommendations(wineNumber, df, cosine_sim=cosine_sim):\n",
    "    \n",
    "    #Construct a reverse map of indices and wine descriptions\n",
    "    indices = pd.Series(df.index, index=df['description']).drop_duplicates()\n",
    "    \n",
    "    # Get the index of the instance that matches the name of the wine\n",
    "    idx = indices[wineNumber]\n",
    "\n",
    "    # Get the pairwsie similarity scores of all wines with that wine description\n",
    "    sim_scores = list(enumerate(cosine_sim[idx]))\n",
    "\n",
    "    # Sort the wines based on the similarity scores\n",
    "    sim_scores = sorted(sim_scores, key=lambda x: x[1], reverse=True)\n",
    "\n",
    "    # Get the scores of the 5 most similar wines\n",
    "    sim_scores = sim_scores[1:6]\n",
    "\n",
    "    # Get the wine indices\n",
    "    wine_indices = [i[0] for i in sim_scores]\n",
    "\n",
    "    # Return the top 5 most similar wines\n",
    "    return df['title'].loc[wine_indices]"
   ]
  },
  {
   "cell_type": "markdown",
   "metadata": {},
   "source": [
    "# Client A\n",
    " - Client A likes wine # 38 (DanCin 2012 Septette Pinot Noir (Southern Oregon)) "
   ]
  },
  {
   "cell_type": "code",
   "execution_count": 213,
   "metadata": {},
   "outputs": [],
   "source": [
    "# Create a function for recommendations\n",
    "def recommendations(clientWine,df):\n",
    "    wines = get_recommendations(clientWine,df).index\n",
    "    wines = [wine for wine in wines]\n",
    "    wines.insert(0,clientWine)\n",
    "    usefulVars = ['country','description','points','price','title','variety']\n",
    "    return df.loc[wines,usefulVars]"
   ]
  },
  {
   "cell_type": "code",
   "execution_count": 214,
   "metadata": {},
   "outputs": [
    {
     "data": {
      "text/html": [
       "<div>\n",
       "<style scoped>\n",
       "    .dataframe tbody tr th:only-of-type {\n",
       "        vertical-align: middle;\n",
       "    }\n",
       "\n",
       "    .dataframe tbody tr th {\n",
       "        vertical-align: top;\n",
       "    }\n",
       "\n",
       "    .dataframe thead th {\n",
       "        text-align: right;\n",
       "    }\n",
       "</style>\n",
       "<table border=\"1\" class=\"dataframe\">\n",
       "  <thead>\n",
       "    <tr style=\"text-align: right;\">\n",
       "      <th></th>\n",
       "      <th>country</th>\n",
       "      <th>description</th>\n",
       "      <th>points</th>\n",
       "      <th>price</th>\n",
       "      <th>title</th>\n",
       "      <th>variety</th>\n",
       "    </tr>\n",
       "  </thead>\n",
       "  <tbody>\n",
       "    <tr>\n",
       "      <th>38</th>\n",
       "      <td>US</td>\n",
       "      <td>Septette is supple and sexy, using all seven P...</td>\n",
       "      <td>92</td>\n",
       "      <td>36.0</td>\n",
       "      <td>DanCin 2012 Septette Pinot Noir (Southern Oregon)</td>\n",
       "      <td>Pinot Noir</td>\n",
       "    </tr>\n",
       "    <tr>\n",
       "      <th>2522</th>\n",
       "      <td>US</td>\n",
       "      <td>This wine utilizes 40% neutral oak, 40% stainl...</td>\n",
       "      <td>90</td>\n",
       "      <td>32.0</td>\n",
       "      <td>DanCin 2016 Mélange Chardonnay (Southern Oregon)</td>\n",
       "      <td>Chardonnay</td>\n",
       "    </tr>\n",
       "    <tr>\n",
       "      <th>3278</th>\n",
       "      <td>US</td>\n",
       "      <td>This is stiff and herbal, both in scents and f...</td>\n",
       "      <td>86</td>\n",
       "      <td>35.0</td>\n",
       "      <td>Left Coast Cellars 2011 Latitude 45 Pinot Noir...</td>\n",
       "      <td>Pinot Noir</td>\n",
       "    </tr>\n",
       "    <tr>\n",
       "      <th>3790</th>\n",
       "      <td>US</td>\n",
       "      <td>Grapes from three vineyards (estate, Hyland an...</td>\n",
       "      <td>91</td>\n",
       "      <td>34.0</td>\n",
       "      <td>DanCin 2012 Pas de Trois Pinot Noir (Oregon)</td>\n",
       "      <td>Pinot Noir</td>\n",
       "    </tr>\n",
       "    <tr>\n",
       "      <th>8965</th>\n",
       "      <td>US</td>\n",
       "      <td>All varietal coming from Hedges Estate Vineyar...</td>\n",
       "      <td>90</td>\n",
       "      <td>35.0</td>\n",
       "      <td>Finn Hill 2012 Le Beau Cabernet Sauvignon (Red...</td>\n",
       "      <td>Cabernet Sauvignon</td>\n",
       "    </tr>\n",
       "    <tr>\n",
       "      <th>3288</th>\n",
       "      <td>US</td>\n",
       "      <td>Light aromas of the barnyard don't impede the ...</td>\n",
       "      <td>88</td>\n",
       "      <td>36.0</td>\n",
       "      <td>Vista Hills 2011 Marylhurst Estate Pinot Noir ...</td>\n",
       "      <td>Pinot Noir</td>\n",
       "    </tr>\n",
       "  </tbody>\n",
       "</table>\n",
       "</div>"
      ],
      "text/plain": [
       "     country                                        description  points  \\\n",
       "38        US  Septette is supple and sexy, using all seven P...      92   \n",
       "2522      US  This wine utilizes 40% neutral oak, 40% stainl...      90   \n",
       "3278      US  This is stiff and herbal, both in scents and f...      86   \n",
       "3790      US  Grapes from three vineyards (estate, Hyland an...      91   \n",
       "8965      US  All varietal coming from Hedges Estate Vineyar...      90   \n",
       "3288      US  Light aromas of the barnyard don't impede the ...      88   \n",
       "\n",
       "      price                                              title  \\\n",
       "38     36.0  DanCin 2012 Septette Pinot Noir (Southern Oregon)   \n",
       "2522   32.0   DanCin 2016 Mélange Chardonnay (Southern Oregon)   \n",
       "3278   35.0  Left Coast Cellars 2011 Latitude 45 Pinot Noir...   \n",
       "3790   34.0       DanCin 2012 Pas de Trois Pinot Noir (Oregon)   \n",
       "8965   35.0  Finn Hill 2012 Le Beau Cabernet Sauvignon (Red...   \n",
       "3288   36.0  Vista Hills 2011 Marylhurst Estate Pinot Noir ...   \n",
       "\n",
       "                 variety  \n",
       "38            Pinot Noir  \n",
       "2522          Chardonnay  \n",
       "3278          Pinot Noir  \n",
       "3790          Pinot Noir  \n",
       "8965  Cabernet Sauvignon  \n",
       "3288          Pinot Noir  "
      ]
     },
     "execution_count": 214,
     "metadata": {},
     "output_type": "execute_result"
    }
   ],
   "source": [
    "recommendations(38,df1)"
   ]
  },
  {
   "cell_type": "code",
   "execution_count": null,
   "metadata": {},
   "outputs": [],
   "source": []
  },
  {
   "cell_type": "code",
   "execution_count": null,
   "metadata": {},
   "outputs": [],
   "source": []
  },
  {
   "cell_type": "markdown",
   "metadata": {},
   "source": [
    "# Client B\n",
    "- Client B likes wine # 289 (Zeal 2011 Sauvignon Blanc (Marlborough)) "
   ]
  },
  {
   "cell_type": "code",
   "execution_count": 215,
   "metadata": {},
   "outputs": [
    {
     "data": {
      "text/html": [
       "<div>\n",
       "<style scoped>\n",
       "    .dataframe tbody tr th:only-of-type {\n",
       "        vertical-align: middle;\n",
       "    }\n",
       "\n",
       "    .dataframe tbody tr th {\n",
       "        vertical-align: top;\n",
       "    }\n",
       "\n",
       "    .dataframe thead th {\n",
       "        text-align: right;\n",
       "    }\n",
       "</style>\n",
       "<table border=\"1\" class=\"dataframe\">\n",
       "  <thead>\n",
       "    <tr style=\"text-align: right;\">\n",
       "      <th></th>\n",
       "      <th>country</th>\n",
       "      <th>description</th>\n",
       "      <th>points</th>\n",
       "      <th>price</th>\n",
       "      <th>title</th>\n",
       "      <th>variety</th>\n",
       "    </tr>\n",
       "  </thead>\n",
       "  <tbody>\n",
       "    <tr>\n",
       "      <th>289</th>\n",
       "      <td>New Zealand</td>\n",
       "      <td>A lightweight wine seemingly made for poolside...</td>\n",
       "      <td>85</td>\n",
       "      <td>10.0</td>\n",
       "      <td>Zeal 2011 Sauvignon Blanc (Marlborough)</td>\n",
       "      <td>Sauvignon Blanc</td>\n",
       "    </tr>\n",
       "    <tr>\n",
       "      <th>3141</th>\n",
       "      <td>France</td>\n",
       "      <td>A thin wine that is all dry tannins and not en...</td>\n",
       "      <td>83</td>\n",
       "      <td>30.0</td>\n",
       "      <td>Château du Vallier 2007  Premieres Côtes de Bo...</td>\n",
       "      <td>Bordeaux-style Red Blend</td>\n",
       "    </tr>\n",
       "    <tr>\n",
       "      <th>5139</th>\n",
       "      <td>France</td>\n",
       "      <td>Soft white cherry and strawberry are hit with ...</td>\n",
       "      <td>87</td>\n",
       "      <td>11.0</td>\n",
       "      <td>Les Collines du Bourdic 2016 Éclat de Gris Ros...</td>\n",
       "      <td>Rosé</td>\n",
       "    </tr>\n",
       "    <tr>\n",
       "      <th>4285</th>\n",
       "      <td>New Zealand</td>\n",
       "      <td>Light and herbal, with a modest core of grapef...</td>\n",
       "      <td>84</td>\n",
       "      <td>10.0</td>\n",
       "      <td>Frenzy 2008 Sauvignon Blanc (Marlborough)</td>\n",
       "      <td>Sauvignon Blanc</td>\n",
       "    </tr>\n",
       "    <tr>\n",
       "      <th>929</th>\n",
       "      <td>France</td>\n",
       "      <td>Very herbal and grassy, this crisp wine emphas...</td>\n",
       "      <td>87</td>\n",
       "      <td>20.0</td>\n",
       "      <td>Domaine Dyckerhoff 2014 Sauvignon Blanc (Reuilly)</td>\n",
       "      <td>Sauvignon Blanc</td>\n",
       "    </tr>\n",
       "    <tr>\n",
       "      <th>3840</th>\n",
       "      <td>Chile</td>\n",
       "      <td>This is an approachable, lightweight Sauvignon...</td>\n",
       "      <td>85</td>\n",
       "      <td>9.0</td>\n",
       "      <td>Santa Rita 2013 120 Sauvignon Blanc (Central V...</td>\n",
       "      <td>Sauvignon Blanc</td>\n",
       "    </tr>\n",
       "  </tbody>\n",
       "</table>\n",
       "</div>"
      ],
      "text/plain": [
       "          country                                        description  points  \\\n",
       "289   New Zealand  A lightweight wine seemingly made for poolside...      85   \n",
       "3141       France  A thin wine that is all dry tannins and not en...      83   \n",
       "5139       France  Soft white cherry and strawberry are hit with ...      87   \n",
       "4285  New Zealand  Light and herbal, with a modest core of grapef...      84   \n",
       "929        France  Very herbal and grassy, this crisp wine emphas...      87   \n",
       "3840        Chile  This is an approachable, lightweight Sauvignon...      85   \n",
       "\n",
       "      price                                              title  \\\n",
       "289    10.0            Zeal 2011 Sauvignon Blanc (Marlborough)   \n",
       "3141   30.0  Château du Vallier 2007  Premieres Côtes de Bo...   \n",
       "5139   11.0  Les Collines du Bourdic 2016 Éclat de Gris Ros...   \n",
       "4285   10.0          Frenzy 2008 Sauvignon Blanc (Marlborough)   \n",
       "929    20.0  Domaine Dyckerhoff 2014 Sauvignon Blanc (Reuilly)   \n",
       "3840    9.0  Santa Rita 2013 120 Sauvignon Blanc (Central V...   \n",
       "\n",
       "                       variety  \n",
       "289            Sauvignon Blanc  \n",
       "3141  Bordeaux-style Red Blend  \n",
       "5139                      Rosé  \n",
       "4285           Sauvignon Blanc  \n",
       "929            Sauvignon Blanc  \n",
       "3840           Sauvignon Blanc  "
      ]
     },
     "execution_count": 215,
     "metadata": {},
     "output_type": "execute_result"
    }
   ],
   "source": [
    "recommendations(289,df1)"
   ]
  },
  {
   "cell_type": "code",
   "execution_count": null,
   "metadata": {},
   "outputs": [],
   "source": []
  },
  {
   "cell_type": "markdown",
   "metadata": {},
   "source": [
    "# Part 3\n",
    "\n",
    "Client A is on a tight budget and does not want to spend more than $20. She also is interested in expanding her tastes and would like recommendations that do not include Pino Noirs. Give the top 5 recommendations that meet these criteria."
   ]
  },
  {
   "cell_type": "code",
   "execution_count": null,
   "metadata": {},
   "outputs": [],
   "source": []
  },
  {
   "cell_type": "code",
   "execution_count": null,
   "metadata": {},
   "outputs": [],
   "source": []
  },
  {
   "cell_type": "code",
   "execution_count": 216,
   "metadata": {},
   "outputs": [
    {
     "data": {
      "text/html": [
       "<div>\n",
       "<style scoped>\n",
       "    .dataframe tbody tr th:only-of-type {\n",
       "        vertical-align: middle;\n",
       "    }\n",
       "\n",
       "    .dataframe tbody tr th {\n",
       "        vertical-align: top;\n",
       "    }\n",
       "\n",
       "    .dataframe thead th {\n",
       "        text-align: right;\n",
       "    }\n",
       "</style>\n",
       "<table border=\"1\" class=\"dataframe\">\n",
       "  <thead>\n",
       "    <tr style=\"text-align: right;\">\n",
       "      <th></th>\n",
       "      <th>country</th>\n",
       "      <th>description</th>\n",
       "      <th>designation</th>\n",
       "      <th>points</th>\n",
       "      <th>price</th>\n",
       "      <th>province</th>\n",
       "      <th>region_1</th>\n",
       "      <th>region_2</th>\n",
       "      <th>taster_name</th>\n",
       "      <th>taster_twitter_handle</th>\n",
       "      <th>title</th>\n",
       "      <th>variety</th>\n",
       "      <th>winery</th>\n",
       "    </tr>\n",
       "  </thead>\n",
       "  <tbody>\n",
       "    <tr>\n",
       "      <th>7</th>\n",
       "      <td>France</td>\n",
       "      <td>This rich, full-bodied wine has ripe green and...</td>\n",
       "      <td>Indiscreet</td>\n",
       "      <td>88</td>\n",
       "      <td>15.0</td>\n",
       "      <td>France Other</td>\n",
       "      <td>Vin de France</td>\n",
       "      <td>NaN</td>\n",
       "      <td>Roger Voss</td>\n",
       "      <td>@vossroger</td>\n",
       "      <td>Confidence 2015 Indiscreet Chardonnay (Vin de ...</td>\n",
       "      <td>Chardonnay</td>\n",
       "      <td>Confidence</td>\n",
       "    </tr>\n",
       "    <tr>\n",
       "      <th>8</th>\n",
       "      <td>Turkey</td>\n",
       "      <td>Light cherry red to the eye, this wine made of...</td>\n",
       "      <td>NaN</td>\n",
       "      <td>87</td>\n",
       "      <td>15.0</td>\n",
       "      <td>Turkey</td>\n",
       "      <td>NaN</td>\n",
       "      <td>NaN</td>\n",
       "      <td>Mike DeSimone</td>\n",
       "      <td>@worldwineguys</td>\n",
       "      <td>Çamlibağ 2012 Karalahna (Turkey)</td>\n",
       "      <td>Karalahna</td>\n",
       "      <td>Çamlibağ</td>\n",
       "    </tr>\n",
       "    <tr>\n",
       "      <th>9</th>\n",
       "      <td>Chile</td>\n",
       "      <td>Simple and neutral, with sweetness to the nose...</td>\n",
       "      <td>Selection</td>\n",
       "      <td>82</td>\n",
       "      <td>6.0</td>\n",
       "      <td>Curicó Valley</td>\n",
       "      <td>NaN</td>\n",
       "      <td>NaN</td>\n",
       "      <td>Michael Schachner</td>\n",
       "      <td>@wineschach</td>\n",
       "      <td>Quasar 2010 Selection Sauvignon Blanc (Curicó ...</td>\n",
       "      <td>Sauvignon Blanc</td>\n",
       "      <td>Quasar</td>\n",
       "    </tr>\n",
       "    <tr>\n",
       "      <th>11</th>\n",
       "      <td>Chile</td>\n",
       "      <td>This starts with dense, murky, earthy aromas o...</td>\n",
       "      <td>First Edition</td>\n",
       "      <td>88</td>\n",
       "      <td>18.0</td>\n",
       "      <td>Cachapoal Valley</td>\n",
       "      <td>NaN</td>\n",
       "      <td>NaN</td>\n",
       "      <td>Michael Schachner</td>\n",
       "      <td>@wineschach</td>\n",
       "      <td>Valle Secreto 2010 First Edition Syrah (Cachap...</td>\n",
       "      <td>Syrah</td>\n",
       "      <td>Valle Secreto</td>\n",
       "    </tr>\n",
       "    <tr>\n",
       "      <th>17</th>\n",
       "      <td>Italy</td>\n",
       "      <td>Made with organically farmed grapes, this rust...</td>\n",
       "      <td>Valle Galfina Rosso</td>\n",
       "      <td>85</td>\n",
       "      <td>19.0</td>\n",
       "      <td>Sicily &amp; Sardinia</td>\n",
       "      <td>Etna</td>\n",
       "      <td>NaN</td>\n",
       "      <td>Kerin O’Keefe</td>\n",
       "      <td>@kerinokeefe</td>\n",
       "      <td>Scilio 2012 Valle Galfina Rosso  (Etna)</td>\n",
       "      <td>Nerello Mascalese</td>\n",
       "      <td>Scilio</td>\n",
       "    </tr>\n",
       "  </tbody>\n",
       "</table>\n",
       "</div>"
      ],
      "text/plain": [
       "   country                                        description  \\\n",
       "7   France  This rich, full-bodied wine has ripe green and...   \n",
       "8   Turkey  Light cherry red to the eye, this wine made of...   \n",
       "9    Chile  Simple and neutral, with sweetness to the nose...   \n",
       "11   Chile  This starts with dense, murky, earthy aromas o...   \n",
       "17   Italy  Made with organically farmed grapes, this rust...   \n",
       "\n",
       "            designation  points  price           province       region_1  \\\n",
       "7            Indiscreet      88   15.0       France Other  Vin de France   \n",
       "8                   NaN      87   15.0             Turkey            NaN   \n",
       "9             Selection      82    6.0      Curicó Valley            NaN   \n",
       "11        First Edition      88   18.0   Cachapoal Valley            NaN   \n",
       "17  Valle Galfina Rosso      85   19.0  Sicily & Sardinia           Etna   \n",
       "\n",
       "   region_2        taster_name taster_twitter_handle  \\\n",
       "7       NaN         Roger Voss            @vossroger   \n",
       "8       NaN      Mike DeSimone        @worldwineguys   \n",
       "9       NaN  Michael Schachner           @wineschach   \n",
       "11      NaN  Michael Schachner           @wineschach   \n",
       "17      NaN      Kerin O’Keefe          @kerinokeefe   \n",
       "\n",
       "                                                title            variety  \\\n",
       "7   Confidence 2015 Indiscreet Chardonnay (Vin de ...         Chardonnay   \n",
       "8                    Çamlibağ 2012 Karalahna (Turkey)          Karalahna   \n",
       "9   Quasar 2010 Selection Sauvignon Blanc (Curicó ...    Sauvignon Blanc   \n",
       "11  Valle Secreto 2010 First Edition Syrah (Cachap...              Syrah   \n",
       "17            Scilio 2012 Valle Galfina Rosso  (Etna)  Nerello Mascalese   \n",
       "\n",
       "           winery  \n",
       "7      Confidence  \n",
       "8        Çamlibağ  \n",
       "9          Quasar  \n",
       "11  Valle Secreto  \n",
       "17         Scilio  "
      ]
     },
     "execution_count": 216,
     "metadata": {},
     "output_type": "execute_result"
    }
   ],
   "source": [
    "df20 = df1[df1['price'] <= 20]\n",
    "df20 = df20[df20['variety'] != 'Pinot Noir']\n",
    "df20.head()"
   ]
  },
  {
   "cell_type": "code",
   "execution_count": null,
   "metadata": {},
   "outputs": [],
   "source": []
  },
  {
   "cell_type": "code",
   "execution_count": 217,
   "metadata": {},
   "outputs": [
    {
     "name": "stderr",
     "output_type": "stream",
     "text": [
      "C:\\Python37\\lib\\site-packages\\ipykernel_launcher.py:23: FutureWarning: \n",
      "Passing list-likes to .loc or [] with any missing label will raise\n",
      "KeyError in the future, you can use .reindex() as an alternative.\n",
      "\n",
      "See the documentation here:\n",
      "https://pandas.pydata.org/pandas-docs/stable/user_guide/indexing.html#deprecate-loc-reindex-listlike\n"
     ]
    },
    {
     "data": {
      "text/plain": [
       "3648                                                  NaN\n",
       "7319                                                  NaN\n",
       "1711                                                  NaN\n",
       "7542    Piera Martellozzo 2014 Terre Magre Sauvignon (...\n",
       "1961                                                  NaN\n",
       "Name: title, dtype: object"
      ]
     },
     "execution_count": 217,
     "metadata": {},
     "output_type": "execute_result"
    }
   ],
   "source": [
    "get_recommendations(38,df20)"
   ]
  },
  {
   "cell_type": "code",
   "execution_count": null,
   "metadata": {},
   "outputs": [],
   "source": []
  },
  {
   "cell_type": "markdown",
   "metadata": {},
   "source": [
    "# Part 4\n",
    "\n",
    "The recommender seems to be making nice recommendations for the first two problems. For both Client A and Client B, it seems to be recommending very similar wines with respect to description, and title of the wine. Some more work would need to be done in order to evaluate these recommendations deeper"
   ]
  },
  {
   "cell_type": "code",
   "execution_count": null,
   "metadata": {},
   "outputs": [],
   "source": []
  },
  {
   "cell_type": "code",
   "execution_count": null,
   "metadata": {},
   "outputs": [],
   "source": []
  }
 ],
 "metadata": {
  "kernelspec": {
   "display_name": "Python 3",
   "language": "python",
   "name": "python3"
  },
  "language_info": {
   "codemirror_mode": {
    "name": "ipython",
    "version": 3
   },
   "file_extension": ".py",
   "mimetype": "text/x-python",
   "name": "python",
   "nbconvert_exporter": "python",
   "pygments_lexer": "ipython3",
   "version": "3.7.4"
  }
 },
 "nbformat": 4,
 "nbformat_minor": 2
}
